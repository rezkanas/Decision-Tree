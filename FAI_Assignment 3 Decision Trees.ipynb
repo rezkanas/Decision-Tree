{
 "cells": [
  {
   "cell_type": "markdown",
   "id": "5ab96390",
   "metadata": {},
   "source": [
    "# Assignment 3 - Decision Trees\n",
    "## CART Implementation - Building a Decision Tree Classifier:\n",
    "\n",
    "I build a `class` for `decision tree classifier`. This class take the following attributes:\n",
    "\n",
    "1. **Maximum purity per internal node** : This value is a limit to stop further splitting of a node that has reached the specified purity value when the initial decision tree is being built. \n",
    "2. **Maximum tree depth**: is a limit to stop further splitting of nodes when the specified tree depth has been reached during the building of the initial decision tree.\n",
    "3. **Minimum number of records per internal node**: This prevents further splitting of a node that has reached the specified minimal size when the initial decision tree is being built.\n",
    "4. **Max categories** : is a limit for the number of unique values that a categorical attribute can have. When exceed, decision tree won't be built and error message will be printed.\n",
    "\n",
    "The three first attributes are common ***pre-pruning procedures***. Pruning should reduce the size of a learning tree without reducing predictive accuracy as measured by a cross-validation set. \n",
    "\n",
    "After making an instance of decision tree classifier class, I use cross validation method to initiate training the classifier for *k times*, testing them and log accuracy. Cross validation is used to pick the best class attributes that could give the best accuracy on train and test datasets. \n",
    "\n",
    "This class can take a dataset that contain both *numeric and categorical attributes* and build suitable decision trees for *categorical labels*. \n"
   ]
  },
  {
   "cell_type": "code",
   "execution_count": 1,
   "id": "42dff103",
   "metadata": {},
   "outputs": [],
   "source": [
    "# required libraries\n",
    "from collections import defaultdict\n",
    "import pandas as pd \n",
    "import numpy as np\n",
    "from typing import NamedTuple, Any"
   ]
  },
  {
   "cell_type": "code",
   "execution_count": 2,
   "id": "3b1255c7",
   "metadata": {
    "scrolled": false
   },
   "outputs": [],
   "source": [
    "class Classification_And_Regression_Tree ():\n",
    "    def __init__(self,  Maximum_purity_per_internal_node, Maximum_tree_depth,\n",
    "                 Minimum_number_of_records_per_internal_node, max_categories, verbose = True):\n",
    "        self.tree = defaultdict(list)\n",
    "        self.max_purity = Maximum_purity_per_internal_node\n",
    "        self.max_depth = Maximum_tree_depth\n",
    "        self.min_records_num = Minimum_number_of_records_per_internal_node\n",
    "        self.max_categories = max_categories\n",
    "        self.verbose = verbose\n",
    "        \n",
    "    def Gini_Index(self, feature_count, unique_labels):\n",
    "        ''' \n",
    "        calculating gini index for a particular feature\n",
    "        '''\n",
    "        i = 0\n",
    "        if (feature_count['Total'] == 0).any():\n",
    "            # to avoid error \n",
    "            feature_count.loc[ feature_count['Total'] == 0, 'Total'] = 1\n",
    "\n",
    "        # calculate gini index for each unique label\n",
    "        for unique_outcome in unique_labels:\n",
    "            if i == 0:\n",
    "                feature_count['GI_feature'] = feature_count.apply(lambda x: 1- pow(x[unique_outcome] / x['Total'],2), axis=1)\n",
    "                i += 1\n",
    "            else:\n",
    "                feature_count['GI_feature'] = feature_count.apply(lambda x: x['GI_feature']- pow(x[unique_outcome] / x['Total'],2), axis=1)\n",
    "\n",
    "        feature_count['GI_sub_final'] = feature_count.apply(lambda x: x['GI_feature'] * x['Total'], axis=1)\n",
    "        feature_count_final = sum(feature_count['GI_sub_final'])/sum(feature_count['Total'])\n",
    "        return feature_count, feature_count_final\n",
    "    \n",
    "    def features_collector(self, data, features):\n",
    "        ''' \n",
    "        detect numeric columns and transfer them to features \n",
    "        '''\n",
    "        feature_copy = features.copy()\n",
    "        for feature in feature_copy:\n",
    "            if feature in data.select_dtypes(\"number\").columns:\n",
    "                features.remove(feature)\n",
    "                if data[feature].diff().dropna().eq(1).all():\n",
    "                      continue\n",
    "                threshold_options = list(set(data.sort_values(by = feature)[feature]))\n",
    "                threshold_options = [[feature, (threshold_options[i]+threshold_options[i+1])/2] for i in range(len(threshold_options)-1) ]\n",
    "\n",
    "                features += threshold_options\n",
    "        return features\n",
    "                \n",
    "    def best_split(self, data, features, label):\n",
    "        '''\n",
    "        collect gini index for all features, sort them and select the feature with the lowest index\n",
    "        '''\n",
    "        Gini_Index_feature = {}\n",
    "        unique_labels = data[label].unique().tolist()\n",
    "        for feature in features:\n",
    "            if not isinstance(feature, str):\n",
    "                '''numeric feature '''\n",
    "                threshold = feature[1]\n",
    "                feature = feature[0]\n",
    "                larger_than_threshold = data[data[feature] > threshold][label].value_counts().to_frame().reset_index()\n",
    "                lower_than_threshold = data[data[feature] <= threshold][label].value_counts().to_frame().reset_index()\n",
    "                larger_than_threshold.rename(columns = {label:f'larger_than_{threshold}'}, inplace = True)\n",
    "                lower_than_threshold.rename(columns = {label:f'lower_or_equal_to_{threshold}'}, inplace = True)\n",
    "                lower_than_threshold = lower_than_threshold.pivot_table(columns= ['index'])\n",
    "                larger_than_threshold = larger_than_threshold.pivot_table(columns= ['index'])\n",
    "                feature_count = pd.concat([lower_than_threshold, larger_than_threshold]).fillna(0)\n",
    "                feature_count['Total'] = feature_count[unique_labels].sum(axis = 1)\n",
    "                feature_count, GI_index_final = self.Gini_Index(feature_count, unique_labels)\n",
    "                Gini_Index_feature[(feature, threshold)] = [GI_index_final, feature_count]\n",
    "            else: \n",
    "                '''category feature '''\n",
    "                feature_count = data[[feature, label]].value_counts().to_frame().reset_index()\n",
    "                feature_count = feature_count.pivot_table(index=[feature],\n",
    "                                                          columns=[label],\n",
    "                                                          values= 0).fillna(0)\n",
    "                feature_count['Total'] = feature_count[unique_labels].sum(axis = 1, skipna = True)\n",
    "                if (feature_count['Total']<2).all():\n",
    "                    continue\n",
    "                feature_count, GI_index_final = self.Gini_Index(feature_count, unique_labels)\n",
    "                Gini_Index_feature[feature] = [GI_index_final, feature_count]\n",
    "            \n",
    "        node_lowest_gini_index = sorted(Gini_Index_feature, key=lambda k: Gini_Index_feature[k][0])[0]\n",
    "        feature_count_lowest_gini_index = Gini_Index_feature[node_lowest_gini_index][1]\n",
    "        lowest_gini_index = Gini_Index_feature[node_lowest_gini_index][0]\n",
    "        return lowest_gini_index, node_lowest_gini_index, feature_count_lowest_gini_index\n",
    "        \n",
    "    def split_data(self, data, splitting_node, isnumeric_true):\n",
    "        '''use splitting node to split data'''\n",
    "        datasets = {}\n",
    "        if isnumeric_true: \n",
    "            datasets[f'larger_than_{splitting_node[1]}'] = data[data[splitting_node[0]] > splitting_node[1]]\n",
    "            datasets[f'lower_or_equal_to_{splitting_node[1]}'] = data[data[splitting_node[0]] <= splitting_node[1]]\n",
    "        else:\n",
    "            for feature in data[splitting_node].unique().tolist():                                                    \n",
    "                datasets[feature] = data[data[splitting_node] == feature]\n",
    "        return datasets\n",
    "    \n",
    "    def train(self, data, features, labels_column_title, depth_counter = 0, attribute_value =None, feature_count_gini = 100, previous_attribtue =None):\n",
    "        ''' \n",
    "        use data to build and train a decision tree\n",
    "        '''\n",
    "        unique_labels = data[labels_column_title].unique().tolist()\n",
    "        most_common_label = data[labels_column_title].value_counts().index[0], data[labels_column_title].value_counts()[0]\n",
    "        if len(unique_labels) <= 1: \n",
    "            '''If the data all have the same label'''\n",
    "            return Leaf(*most_common_label)\n",
    "        \n",
    " \n",
    "        if len(features) == 0:\n",
    "            '''In case list of attributes is empty, create a leaf node that predicts the most \n",
    "            common label then stop.'''\n",
    "            return Leaf(*most_common_label)  \n",
    "        \n",
    "        if self.max_depth <= depth_counter:\n",
    "\n",
    "            '''In case depth of tree has exceed the acceptable threshold, create a leaf node that predicts \n",
    "            the most common label then stop.'''\n",
    "            return Leaf(*most_common_label)\n",
    "        \n",
    "        if not isinstance(feature_count_gini, int):\n",
    "            attribute_value_X = attribute_value\n",
    "            if not isinstance(attribute_value_X, str):\n",
    "                attribute_value_X = attribute_value[0]\n",
    "            actual_gini_index = feature_count_gini.loc[attribute_value_X, 'GI_feature']\n",
    "            if  actual_gini_index < self.max_purity:\n",
    "                '''  in case splitting will not improve purity (minimum 0.03) and the purity has\n",
    "                   reached an acceptable threshold, do not split further and create a leaf node '''  \n",
    "                return Leaf(*most_common_label)\n",
    "\n",
    "        if depth_counter == 0:\n",
    "            '''\n",
    "            in case number for a column's unique values exceed an acceptable threshold, send a error message\n",
    "            '''\n",
    "            types = data.dtypes\n",
    "            if len([True for feature in features if isinstance(feature, list)]) ==0:\n",
    "                features = self.features_collector(data, features)\n",
    "                check_columns = types[types == \"object\"].index\n",
    "                for column in check_columns:\n",
    "                    var_length = len(data[column].value_counts())\n",
    "                    if var_length > self.max_categories:\n",
    "                        raise ValueError('The ' + column + ' attribute has '+ str(var_length)\n",
    "                                         + ' unique values, which is more than the accepted threshold: ' \n",
    "                                         +  str(self.max_categories))\n",
    "            depth_counter += 1\n",
    "        else:\n",
    "            if not previous_attribtue == attribute_value:\n",
    "                depth_counter += 1\n",
    "        \n",
    "        if len(data) < self.min_records_num:\n",
    "            '''In case the number of records went below an acceptable minimum number of records per internal node, \n",
    "            create a leaf node that predicts the most common label then stop.'''\n",
    "            return Leaf(*most_common_label)\n",
    "\n",
    "        previous_attribtue = attribute_value\n",
    "        gini_index, next_spliting_node, feature_count_gini = self.best_split(data, features, labels_column_title)\n",
    "\n",
    "\n",
    "        #split data and returned new splitted dataset \n",
    "        if not isinstance(next_spliting_node, str):\n",
    "            features = [feature for feature in features if not next_spliting_node[0] in feature]\n",
    "            splitted_dic = self.split_data(data, list(next_spliting_node), True)\n",
    "        else:\n",
    "            features.remove(next_spliting_node)\n",
    "            splitted_dic = self.split_data(data, next_spliting_node, False)\n",
    "    \n",
    "        \n",
    "        # create a subtrees with recursion\n",
    "        subtrees = {attribute_value : self.train(subset, features,\n",
    "                                                labels_column_title, depth_counter,\n",
    "                                                 attribute_value, feature_count_gini, previous_attribtue)\n",
    "                    for attribute_value, subset in splitted_dic.items()}\n",
    "        \n",
    "        return Internal_Split_Node(next_spliting_node, subtrees, \n",
    "                                   samples = len(data),\n",
    "                                   label_distribution = data[labels_column_title].value_counts().to_dict(),\n",
    "                                   default_value = most_common_label)\n",
    "\n",
    "        \n",
    "    def classify(self, tree, data_row):\n",
    "        \"\"\"classify data row using given decision tree\"\"\"\n",
    "        if isinstance(tree, Leaf):\n",
    "            # check whether tree consists of only a leaf node, then return leaf's value\n",
    "            return tree.label\n",
    "\n",
    "\n",
    "        if not isinstance(tree.attribute, str):\n",
    "            # numeric splitting attribute\n",
    "            if data_row[tree.attribute[0]] > tree.attribute[1]:\n",
    "                subtree_key = f'larger_than_{tree.attribute[1]}'\n",
    "            else:\n",
    "                subtree_key =  f'lower_or_equal_to_{tree.attribute[1]}'\n",
    "\n",
    "        else:\n",
    "            subtree_key = data_row[tree.attribute]\n",
    "            \n",
    "\n",
    "        if subtree_key not in tree.subtrees.keys():   # If no subtree for key,\n",
    "            return tree.default_value[0]          # return the default value.\n",
    "        subtree = tree.subtrees[subtree_key]   # Choose the appropriate subtree\n",
    "        return self.classify(subtree, data_row)\n",
    "    \n",
    "    def predict(self, tree, data_slice):\n",
    "        # make a prediction for a dataset by calling classify method for each row\n",
    "        return data_slice.apply(lambda x: self.classify(tree, x), axis=1)\n",
    "    \n",
    "    def cross_validation(self, data, features_input, labels_column_title, cv = 5):\n",
    "        '''split the data into cv number, make training/test data, use them to train and test a decision tree\n",
    "        and record the accuracy for each fold. Afterwords, train a decision tree on the whole dataset and\n",
    "        return a trained decision tree, a list of all folds accuracy, an average accuracy'''\n",
    "        \n",
    "        starting_index = 0\n",
    "        ending_index = round(data.shape[0]/cv)\n",
    "        counter = 0  #to initiate the counter used to calculate tree depth \n",
    "        cv_accuracy = []\n",
    "        \n",
    "        for i in range(cv):\n",
    "            # slice the train data and train a decision tree\n",
    "            features = features_input.copy()\n",
    "            train_data = pd.concat([data[:starting_index],data[ending_index:]])\n",
    "            DecisionTree = self.train(train_data, features, labels_column_title, counter)\n",
    "            # slice the test data, split into x and y, use x for prediction then calculate accuracy \n",
    "            test_data = data[starting_index:ending_index]\n",
    "            X_test_data = test_data.drop([labels_column_title], axis=1)\n",
    "            y_test_data = test_data[labels_column_title]\n",
    "            predicted_labels = self. predict(DecisionTree, X_test_data)\n",
    "            accuracy = self.accuracy(predicted_labels, y_test_data)\n",
    "            confusion_matrix = self.confusion_matrix(predicted_labels, y_test_data)\n",
    "            if self.verbose:\n",
    "                print(f'Confusion matrix for fold number {i+1} is as follow:\\n {confusion_matrix}')\n",
    "                print()\n",
    "            cv_accuracy.append(accuracy)\n",
    "            starting_index += round(data.shape[0]/cv)\n",
    "            ending_index += round(data.shape[0]/cv)\n",
    "\n",
    "        avg_accuracy = sum(cv_accuracy) / len(cv_accuracy) \n",
    "        # train on full data\n",
    "        DecisionTree = self.train(data, features_input, labels_column_title, counter)    \n",
    "        return DecisionTree, avg_accuracy, cv_accuracy\n",
    "    \n",
    "    def accuracy(self, predicted_labels, y_test_data):\n",
    "        '''calculate accuracy by comparing between actual and predicted labels'''\n",
    "        comparison_column = np.where(predicted_labels == y_test_data, True, False)\n",
    "        return np.count_nonzero(comparison_column == True)/len (comparison_column)\n",
    "    \n",
    "    def confusion_matrix (self, predicted_labels, y_test_data):\n",
    "        '''calculate a confusion matrix for multilabel classification'''\n",
    "        df = pd.DataFrame({'predicted': predicted_labels, 'actual': y_test_data}, columns=['predicted', 'actual'])\n",
    "        return (df.groupby(['predicted', 'actual']).size().unstack(fill_value=0))"
   ]
  },
  {
   "cell_type": "markdown",
   "id": "2db2af80",
   "metadata": {},
   "source": [
    "I build also a seperate class for `Leaf` node and `Internal_Split` node in order to use them when constructing decision tree nodes. "
   ]
  },
  {
   "cell_type": "code",
   "execution_count": 3,
   "id": "38140142",
   "metadata": {},
   "outputs": [],
   "source": [
    "class Leaf(NamedTuple):\n",
    "    ''' \n",
    "    an information container for each leaf.\n",
    "    '''\n",
    "    label: Any\n",
    "    Samples : int \n",
    "    \n",
    "\n",
    "class Internal_Split_Node(NamedTuple):\n",
    "    ''' \n",
    "    an information container for each internal node.\n",
    "    '''\n",
    "    attribute: str\n",
    "    subtrees: dict\n",
    "    samples : int\n",
    "    label_distribution : list\n",
    "    default_value: Any = None\n",
    "        "
   ]
  },
  {
   "cell_type": "markdown",
   "id": "2e5eb28d",
   "metadata": {},
   "source": [
    "## Weather Dataset\n",
    "### Dataset ingestion and Data Wrangling::\n",
    "Using read_csv method of pandas package, I imported weather data's csv file. This method trasnfer the data into tabuluar dataframe. "
   ]
  },
  {
   "cell_type": "code",
   "execution_count": 4,
   "id": "8dda36ff",
   "metadata": {},
   "outputs": [],
   "source": [
    "# required libraries for data handling \n",
    "import matplotlib.pyplot as plt"
   ]
  },
  {
   "cell_type": "code",
   "execution_count": 5,
   "id": "9c1be899",
   "metadata": {},
   "outputs": [
    {
     "data": {
      "text/html": [
       "<div>\n",
       "<style scoped>\n",
       "    .dataframe tbody tr th:only-of-type {\n",
       "        vertical-align: middle;\n",
       "    }\n",
       "\n",
       "    .dataframe tbody tr th {\n",
       "        vertical-align: top;\n",
       "    }\n",
       "\n",
       "    .dataframe thead th {\n",
       "        text-align: right;\n",
       "    }\n",
       "</style>\n",
       "<table border=\"1\" class=\"dataframe\">\n",
       "  <thead>\n",
       "    <tr style=\"text-align: right;\">\n",
       "      <th></th>\n",
       "      <th>Outlook</th>\n",
       "      <th>Temperature</th>\n",
       "      <th>Humidity</th>\n",
       "      <th>Wind</th>\n",
       "      <th>Decision</th>\n",
       "    </tr>\n",
       "    <tr>\n",
       "      <th>Day</th>\n",
       "      <th></th>\n",
       "      <th></th>\n",
       "      <th></th>\n",
       "      <th></th>\n",
       "      <th></th>\n",
       "    </tr>\n",
       "  </thead>\n",
       "  <tbody>\n",
       "    <tr>\n",
       "      <th>1</th>\n",
       "      <td>Sunny</td>\n",
       "      <td>Hot</td>\n",
       "      <td>High</td>\n",
       "      <td>Weak</td>\n",
       "      <td>No</td>\n",
       "    </tr>\n",
       "    <tr>\n",
       "      <th>2</th>\n",
       "      <td>Sunny</td>\n",
       "      <td>Hot</td>\n",
       "      <td>High</td>\n",
       "      <td>Strong</td>\n",
       "      <td>No</td>\n",
       "    </tr>\n",
       "    <tr>\n",
       "      <th>3</th>\n",
       "      <td>Overcast</td>\n",
       "      <td>Hot</td>\n",
       "      <td>High</td>\n",
       "      <td>Weak</td>\n",
       "      <td>Yes</td>\n",
       "    </tr>\n",
       "    <tr>\n",
       "      <th>4</th>\n",
       "      <td>Rainfall</td>\n",
       "      <td>Mild</td>\n",
       "      <td>High</td>\n",
       "      <td>Weak</td>\n",
       "      <td>Yes</td>\n",
       "    </tr>\n",
       "    <tr>\n",
       "      <th>5</th>\n",
       "      <td>Rainfall</td>\n",
       "      <td>Cool</td>\n",
       "      <td>Normal</td>\n",
       "      <td>Weak</td>\n",
       "      <td>Yes</td>\n",
       "    </tr>\n",
       "  </tbody>\n",
       "</table>\n",
       "</div>"
      ],
      "text/plain": [
       "      Outlook Temperature Humidity    Wind Decision\n",
       "Day                                                \n",
       "1       Sunny         Hot     High    Weak       No\n",
       "2       Sunny         Hot     High  Strong       No\n",
       "3    Overcast         Hot     High    Weak      Yes\n",
       "4    Rainfall        Mild     High    Weak      Yes\n",
       "5    Rainfall        Cool   Normal    Weak      Yes"
      ]
     },
     "execution_count": 5,
     "metadata": {},
     "output_type": "execute_result"
    }
   ],
   "source": [
    "#using the day column as index for the dataframe. \n",
    "weather_data = pd.read_csv('weather-data.csv', index_col= 0) \n",
    "weather_data.head(5)"
   ]
  },
  {
   "cell_type": "markdown",
   "id": "ac409067",
   "metadata": {},
   "source": [
    "Dataset contains only 14 lines and all columns include categorical attributes. Each columns has 2-3 unique values. "
   ]
  },
  {
   "cell_type": "code",
   "execution_count": 6,
   "id": "fbba69c5",
   "metadata": {},
   "outputs": [
    {
     "data": {
      "text/html": [
       "<div>\n",
       "<style scoped>\n",
       "    .dataframe tbody tr th:only-of-type {\n",
       "        vertical-align: middle;\n",
       "    }\n",
       "\n",
       "    .dataframe tbody tr th {\n",
       "        vertical-align: top;\n",
       "    }\n",
       "\n",
       "    .dataframe thead th {\n",
       "        text-align: right;\n",
       "    }\n",
       "</style>\n",
       "<table border=\"1\" class=\"dataframe\">\n",
       "  <thead>\n",
       "    <tr style=\"text-align: right;\">\n",
       "      <th></th>\n",
       "      <th>Outlook</th>\n",
       "      <th>Temperature</th>\n",
       "      <th>Humidity</th>\n",
       "      <th>Wind</th>\n",
       "      <th>Decision</th>\n",
       "    </tr>\n",
       "  </thead>\n",
       "  <tbody>\n",
       "    <tr>\n",
       "      <th>count</th>\n",
       "      <td>14</td>\n",
       "      <td>14</td>\n",
       "      <td>14</td>\n",
       "      <td>14</td>\n",
       "      <td>14</td>\n",
       "    </tr>\n",
       "    <tr>\n",
       "      <th>unique</th>\n",
       "      <td>3</td>\n",
       "      <td>3</td>\n",
       "      <td>2</td>\n",
       "      <td>2</td>\n",
       "      <td>2</td>\n",
       "    </tr>\n",
       "    <tr>\n",
       "      <th>top</th>\n",
       "      <td>Sunny</td>\n",
       "      <td>Mild</td>\n",
       "      <td>High</td>\n",
       "      <td>Weak</td>\n",
       "      <td>Yes</td>\n",
       "    </tr>\n",
       "    <tr>\n",
       "      <th>freq</th>\n",
       "      <td>5</td>\n",
       "      <td>6</td>\n",
       "      <td>7</td>\n",
       "      <td>8</td>\n",
       "      <td>9</td>\n",
       "    </tr>\n",
       "  </tbody>\n",
       "</table>\n",
       "</div>"
      ],
      "text/plain": [
       "       Outlook Temperature Humidity  Wind Decision\n",
       "count       14          14       14    14       14\n",
       "unique       3           3        2     2        2\n",
       "top      Sunny        Mild     High  Weak      Yes\n",
       "freq         5           6        7     8        9"
      ]
     },
     "execution_count": 6,
     "metadata": {},
     "output_type": "execute_result"
    }
   ],
   "source": [
    "weather_data.describe(include = 'object')"
   ]
  },
  {
   "cell_type": "markdown",
   "id": "1dc34394",
   "metadata": {},
   "source": [
    "We note that there is an imbalance in data as 9 out of 14 data entry has 'yes' as a decision which will have an effect on the classifier performance on real data and introduce biase. Wind and humidity have 2 unique values whereas outlook and temperature have 3 unique values. "
   ]
  },
  {
   "cell_type": "code",
   "execution_count": 7,
   "id": "9a18bf51",
   "metadata": {
    "scrolled": false
   },
   "outputs": [
    {
     "data": {
      "image/png": "[encoded data removed]",
      "text/plain": [
       "<Figure size 1152x864 with 4 Axes>"
      ]
     },
     "metadata": {
      "needs_background": "light"
     },
     "output_type": "display_data"
    }
   ],
   "source": [
    "fig, axes = plt.subplots(2, 2, figsize=(16,12))\n",
    "for attribute, loc in zip(weather_data.columns, [(0,0), (1,0),(0,1),(1,1)]):\n",
    "    if attribute != 'Decision':\n",
    "        stacked_attribute= weather_data[[attribute,'Decision']].value_counts().to_frame().reset_index().pivot_table(index= attribute, columns= ['Decision'], values= 0)\n",
    "        stacked_attribute.plot(kind='bar', xlabel= attribute, ylabel='Decision', title= f'Count of yes/no decisions per {attribute}', stacked=True, rot=0, ax = axes[loc[0]][loc[1]])\n"
   ]
  },
  {
   "cell_type": "markdown",
   "id": "2ace4f9e",
   "metadata": {},
   "source": [
    "In above figure, I make the following observations:\n",
    " - Decision is always 'yes' when outlook is overcast.\n",
    " - Normal humdity associate mostly with 'yes' decision \n",
    " - Decision was equally distrbute between 'yes/no' in case of strong wind.\n",
    " \n",
    "Even after making all this observation, it is tricky when receiving a set of attributes to call for 'yes/no' decision, therefore I will build a decision tree classifier to help me to make this prediction.  "
   ]
  },
  {
   "cell_type": "code",
   "execution_count": 8,
   "id": "8318679b",
   "metadata": {
    "scrolled": true
   },
   "outputs": [
    {
     "name": "stdout",
     "output_type": "stream",
     "text": [
      "Confusion matrix for fold number 1 is as follow:\n",
      " actual     No  Yes\n",
      "predicted         \n",
      "No          2    0\n",
      "Yes         0    1\n",
      "\n",
      "Confusion matrix for fold number 2 is as follow:\n",
      " actual     No  Yes\n",
      "predicted         \n",
      "No          0    1\n",
      "Yes         1    1\n",
      "\n",
      "Confusion matrix for fold number 3 is as follow:\n",
      " actual     No  Yes\n",
      "predicted         \n",
      "No          0    1\n",
      "Yes         1    1\n",
      "\n",
      "Confusion matrix for fold number 4 is as follow:\n",
      " actual     Yes\n",
      "predicted     \n",
      "No           1\n",
      "Yes          2\n",
      "\n",
      "Confusion matrix for fold number 5 is as follow:\n",
      " actual     No  Yes\n",
      "predicted         \n",
      "No          1    0\n",
      "Yes         0    1\n",
      "\n",
      "\n",
      "Decision Tree for weather dataset is as follows:\n",
      " Internal_Split_Node(attribute='Outlook', subtrees={'Sunny': Internal_Split_Node(attribute='Humidity', subtrees={'High': Leaf(label='No', Samples=3), 'Normal': Leaf(label='Yes', Samples=2)}, samples=5, label_distribution={'No': 3, 'Yes': 2}, default_value=('No', 3)), 'Overcast': Leaf(label='Yes', Samples=4), 'Rainfall': Internal_Split_Node(attribute='Wind', subtrees={'Weak': Leaf(label='Yes', Samples=3), 'Strong': Leaf(label='No', Samples=2)}, samples=5, label_distribution={'Yes': 3, 'No': 2}, default_value=('Yes', 3))}, samples=14, label_distribution={'Yes': 9, 'No': 5}, default_value=('Yes', 9))\n",
      "This tree got an average accuarcy of 0.6666666666666666 when running cross validation on 5 folds\n",
      "accuracy this tree has on each fold is: [1.0, 0.3333333333333333, 0.3333333333333333, 0.6666666666666666, 1.0]\n"
     ]
    }
   ],
   "source": [
    "CART =  Classification_And_Regression_Tree(Maximum_purity_per_internal_node = 0.1,\n",
    "                                           Maximum_tree_depth = 4,\n",
    "                                           Minimum_number_of_records_per_internal_node = 3,\n",
    "                                           max_categories = 10)\n",
    "\n",
    "DecisionTree, avg_accuracy, cv_accuracy = CART.cross_validation(data = weather_data, \n",
    "                                                                features_input = ['Temperature', 'Humidity', 'Wind', 'Outlook'],\n",
    "                                                                labels_column_title = 'Decision',\n",
    "                                                                cv = 5)\n",
    "print()\n",
    "print('Decision Tree for weather dataset is as follows:\\n', DecisionTree)\n",
    "print(f'This tree got an average accuarcy of {avg_accuracy} when running cross validation on 5 folds')\n",
    "print(f'accuracy this tree has on each fold is: {cv_accuracy}')"
   ]
  },
  {
   "cell_type": "markdown",
   "id": "a9539eb1",
   "metadata": {},
   "source": [
    "I note that the tree accuracy is fluctuating between each fold during cross validation because of overfitting problem. To reach a better accuracy, a bigger dataset is required (only 14 enteries are available here). "
   ]
  },
  {
   "attachments": {},
   "cell_type": "markdown",
   "id": "0ffab3d8",
   "metadata": {},
   "source": [
    "## Drug Dataset\n",
    "### Dataset ingestion and Data Wrangling:\n",
    "\n",
    "[Drugs A, B, C, X, Y for Decision Trees](https://www.kaggle.com/datasets/pablomgomez21/drugs-a-b-c-x-y-for-decision-trees) is imported from kaggle.com. The dataset belongs to lists of patients who received a treatment for the same disease. The differents drugs can be A B C X or Y. The attributes collected for each patients is: \n",
    "- Age\n",
    "- Sex \n",
    "- Blood Pressure (refer to as BP)\n",
    "- Cholesterol level\n",
    "- Sodium - Potassium (refer to as Na_to_K)\n",
    "- Drug that worked with that patient\n"
   ]
  },
  {
   "cell_type": "code",
   "execution_count": 9,
   "id": "bb3fb1e3",
   "metadata": {},
   "outputs": [
    {
     "data": {
      "text/html": [
       "<div>\n",
       "<style scoped>\n",
       "    .dataframe tbody tr th:only-of-type {\n",
       "        vertical-align: middle;\n",
       "    }\n",
       "\n",
       "    .dataframe tbody tr th {\n",
       "        vertical-align: top;\n",
       "    }\n",
       "\n",
       "    .dataframe thead th {\n",
       "        text-align: right;\n",
       "    }\n",
       "</style>\n",
       "<table border=\"1\" class=\"dataframe\">\n",
       "  <thead>\n",
       "    <tr style=\"text-align: right;\">\n",
       "      <th></th>\n",
       "      <th>Age</th>\n",
       "      <th>Sex</th>\n",
       "      <th>BP</th>\n",
       "      <th>Cholesterol</th>\n",
       "      <th>Na_to_K</th>\n",
       "      <th>Drug</th>\n",
       "    </tr>\n",
       "  </thead>\n",
       "  <tbody>\n",
       "    <tr>\n",
       "      <th>0</th>\n",
       "      <td>23</td>\n",
       "      <td>F</td>\n",
       "      <td>HIGH</td>\n",
       "      <td>HIGH</td>\n",
       "      <td>25.355</td>\n",
       "      <td>drugY</td>\n",
       "    </tr>\n",
       "    <tr>\n",
       "      <th>1</th>\n",
       "      <td>47</td>\n",
       "      <td>M</td>\n",
       "      <td>LOW</td>\n",
       "      <td>HIGH</td>\n",
       "      <td>13.093</td>\n",
       "      <td>drugC</td>\n",
       "    </tr>\n",
       "    <tr>\n",
       "      <th>2</th>\n",
       "      <td>47</td>\n",
       "      <td>M</td>\n",
       "      <td>LOW</td>\n",
       "      <td>HIGH</td>\n",
       "      <td>10.114</td>\n",
       "      <td>drugC</td>\n",
       "    </tr>\n",
       "    <tr>\n",
       "      <th>3</th>\n",
       "      <td>28</td>\n",
       "      <td>F</td>\n",
       "      <td>NORMAL</td>\n",
       "      <td>HIGH</td>\n",
       "      <td>7.798</td>\n",
       "      <td>drugX</td>\n",
       "    </tr>\n",
       "    <tr>\n",
       "      <th>4</th>\n",
       "      <td>61</td>\n",
       "      <td>F</td>\n",
       "      <td>LOW</td>\n",
       "      <td>HIGH</td>\n",
       "      <td>18.043</td>\n",
       "      <td>drugY</td>\n",
       "    </tr>\n",
       "  </tbody>\n",
       "</table>\n",
       "</div>"
      ],
      "text/plain": [
       "   Age Sex      BP Cholesterol  Na_to_K   Drug\n",
       "0   23   F    HIGH        HIGH   25.355  drugY\n",
       "1   47   M     LOW        HIGH   13.093  drugC\n",
       "2   47   M     LOW        HIGH   10.114  drugC\n",
       "3   28   F  NORMAL        HIGH    7.798  drugX\n",
       "4   61   F     LOW        HIGH   18.043  drugY"
      ]
     },
     "execution_count": 9,
     "metadata": {},
     "output_type": "execute_result"
    }
   ],
   "source": [
    "drug_data = pd.read_csv('drug200.csv')\n",
    "drug_data.head(5)"
   ]
  },
  {
   "cell_type": "markdown",
   "id": "3214be72",
   "metadata": {},
   "source": [
    "The dataset has 200 non-null entries in 6 columns. `Age` and `Na_to_K` columns contain numeric values whereas the other columns have categorical values. "
   ]
  },
  {
   "cell_type": "code",
   "execution_count": 10,
   "id": "57f4d196",
   "metadata": {},
   "outputs": [
    {
     "name": "stdout",
     "output_type": "stream",
     "text": [
      "<class 'pandas.core.frame.DataFrame'>\n",
      "RangeIndex: 200 entries, 0 to 199\n",
      "Data columns (total 6 columns):\n",
      " #   Column       Non-Null Count  Dtype  \n",
      "---  ------       --------------  -----  \n",
      " 0   Age          200 non-null    int64  \n",
      " 1   Sex          200 non-null    object \n",
      " 2   BP           200 non-null    object \n",
      " 3   Cholesterol  200 non-null    object \n",
      " 4   Na_to_K      200 non-null    float64\n",
      " 5   Drug         200 non-null    object \n",
      "dtypes: float64(1), int64(1), object(4)\n",
      "memory usage: 9.5+ KB\n"
     ]
    }
   ],
   "source": [
    "drug_data.info()"
   ]
  },
  {
   "attachments": {},
   "cell_type": "markdown",
   "id": "373d2724",
   "metadata": {},
   "source": [
    "There is not much data cleaning needed to be done beforehand.  On average, patients are 44 years old  and have 16 Sodium - Potassium level."
   ]
  },
  {
   "cell_type": "code",
   "execution_count": 11,
   "id": "a5233f67",
   "metadata": {},
   "outputs": [
    {
     "data": {
      "text/html": [
       "<div>\n",
       "<style scoped>\n",
       "    .dataframe tbody tr th:only-of-type {\n",
       "        vertical-align: middle;\n",
       "    }\n",
       "\n",
       "    .dataframe tbody tr th {\n",
       "        vertical-align: top;\n",
       "    }\n",
       "\n",
       "    .dataframe thead th {\n",
       "        text-align: right;\n",
       "    }\n",
       "</style>\n",
       "<table border=\"1\" class=\"dataframe\">\n",
       "  <thead>\n",
       "    <tr style=\"text-align: right;\">\n",
       "      <th></th>\n",
       "      <th>Age</th>\n",
       "      <th>Na_to_K</th>\n",
       "    </tr>\n",
       "  </thead>\n",
       "  <tbody>\n",
       "    <tr>\n",
       "      <th>count</th>\n",
       "      <td>200.000000</td>\n",
       "      <td>200.000000</td>\n",
       "    </tr>\n",
       "    <tr>\n",
       "      <th>mean</th>\n",
       "      <td>44.315000</td>\n",
       "      <td>16.084485</td>\n",
       "    </tr>\n",
       "    <tr>\n",
       "      <th>std</th>\n",
       "      <td>16.544315</td>\n",
       "      <td>7.223956</td>\n",
       "    </tr>\n",
       "    <tr>\n",
       "      <th>min</th>\n",
       "      <td>15.000000</td>\n",
       "      <td>6.269000</td>\n",
       "    </tr>\n",
       "    <tr>\n",
       "      <th>25%</th>\n",
       "      <td>31.000000</td>\n",
       "      <td>10.445500</td>\n",
       "    </tr>\n",
       "    <tr>\n",
       "      <th>50%</th>\n",
       "      <td>45.000000</td>\n",
       "      <td>13.936500</td>\n",
       "    </tr>\n",
       "    <tr>\n",
       "      <th>75%</th>\n",
       "      <td>58.000000</td>\n",
       "      <td>19.380000</td>\n",
       "    </tr>\n",
       "    <tr>\n",
       "      <th>max</th>\n",
       "      <td>74.000000</td>\n",
       "      <td>38.247000</td>\n",
       "    </tr>\n",
       "  </tbody>\n",
       "</table>\n",
       "</div>"
      ],
      "text/plain": [
       "              Age     Na_to_K\n",
       "count  200.000000  200.000000\n",
       "mean    44.315000   16.084485\n",
       "std     16.544315    7.223956\n",
       "min     15.000000    6.269000\n",
       "25%     31.000000   10.445500\n",
       "50%     45.000000   13.936500\n",
       "75%     58.000000   19.380000\n",
       "max     74.000000   38.247000"
      ]
     },
     "execution_count": 11,
     "metadata": {},
     "output_type": "execute_result"
    }
   ],
   "source": [
    "drug_data.describe()"
   ]
  },
  {
   "attachments": {},
   "cell_type": "markdown",
   "id": "f0f049fd",
   "metadata": {},
   "source": [
    "More observations about the dataset: \n",
    "- Almost equal number of male and female patients\n",
    "- 91 out of 200 patients were cured using `drug y`. \n",
    "- Almost equal number of patients has either high or low cholesterol level."
   ]
  },
  {
   "cell_type": "code",
   "execution_count": 12,
   "id": "9d4cd49e",
   "metadata": {},
   "outputs": [
    {
     "data": {
      "text/html": [
       "<div>\n",
       "<style scoped>\n",
       "    .dataframe tbody tr th:only-of-type {\n",
       "        vertical-align: middle;\n",
       "    }\n",
       "\n",
       "    .dataframe tbody tr th {\n",
       "        vertical-align: top;\n",
       "    }\n",
       "\n",
       "    .dataframe thead th {\n",
       "        text-align: right;\n",
       "    }\n",
       "</style>\n",
       "<table border=\"1\" class=\"dataframe\">\n",
       "  <thead>\n",
       "    <tr style=\"text-align: right;\">\n",
       "      <th></th>\n",
       "      <th>Sex</th>\n",
       "      <th>BP</th>\n",
       "      <th>Cholesterol</th>\n",
       "      <th>Drug</th>\n",
       "    </tr>\n",
       "  </thead>\n",
       "  <tbody>\n",
       "    <tr>\n",
       "      <th>count</th>\n",
       "      <td>200</td>\n",
       "      <td>200</td>\n",
       "      <td>200</td>\n",
       "      <td>200</td>\n",
       "    </tr>\n",
       "    <tr>\n",
       "      <th>unique</th>\n",
       "      <td>2</td>\n",
       "      <td>3</td>\n",
       "      <td>2</td>\n",
       "      <td>5</td>\n",
       "    </tr>\n",
       "    <tr>\n",
       "      <th>top</th>\n",
       "      <td>M</td>\n",
       "      <td>HIGH</td>\n",
       "      <td>HIGH</td>\n",
       "      <td>drugY</td>\n",
       "    </tr>\n",
       "    <tr>\n",
       "      <th>freq</th>\n",
       "      <td>104</td>\n",
       "      <td>77</td>\n",
       "      <td>103</td>\n",
       "      <td>91</td>\n",
       "    </tr>\n",
       "  </tbody>\n",
       "</table>\n",
       "</div>"
      ],
      "text/plain": [
       "        Sex    BP Cholesterol   Drug\n",
       "count   200   200         200    200\n",
       "unique    2     3           2      5\n",
       "top       M  HIGH        HIGH  drugY\n",
       "freq    104    77         103     91"
      ]
     },
     "execution_count": 12,
     "metadata": {},
     "output_type": "execute_result"
    }
   ],
   "source": [
    "drug_data.describe(include = 'object')"
   ]
  },
  {
   "cell_type": "code",
   "execution_count": 13,
   "id": "4d005f37",
   "metadata": {},
   "outputs": [
    {
     "data": {
      "image/png": "[encoded data removed]",
      "text/plain": [
       "<Figure size 1152x864 with 6 Axes>"
      ]
     },
     "metadata": {
      "needs_background": "light"
     },
     "output_type": "display_data"
    }
   ],
   "source": [
    "fig, axes = plt.subplots(2, 3, figsize=(16,12))\n",
    "axes[1][2].set_visible(False)\n",
    "for attribute, loc in zip(drug_data.columns, [(0,0), (1,0), (0,1), (0,2), (1,1)]):\n",
    "    if drug_data[attribute].dtype == 'O' :\n",
    "        if attribute != 'Drug':\n",
    "            stacked_attribute = drug_data[[attribute,'Drug']].value_counts().to_frame().reset_index().pivot_table(index= attribute, columns= ['Drug'],\n",
    "                                                                                                                 values= 0)\n",
    "            stacked_attribute.plot(kind='bar', xlabel= attribute, ylabel='Drug', \n",
    "                                   title= f'Count of Drugs per {attribute}', stacked=True, \n",
    "                                   rot=0, ax = axes[loc[0]][loc[1]])\n",
    "    else:\n",
    "        if attribute == 'Age':\n",
    "            rot = 0\n",
    "        else:\n",
    "            rot = 90\n",
    "        stacked_attribute = drug_data[[attribute,'Drug']].value_counts().to_frame().reset_index().pivot_table(index= attribute, columns= ['Drug'], values= 0)\n",
    "        step = round((stacked_attribute.index.max()-stacked_attribute.index.min())/5)\n",
    "        stacked_attribute = stacked_attribute.groupby(pd.cut(stacked_attribute.index, \n",
    "                                                             np.arange(stacked_attribute.index.min(),\n",
    "                                                                       stacked_attribute.index.max() + step,\n",
    "                                                                       step))).sum()\n",
    "        stacked_attribute.plot(kind='bar', xlabel= attribute, ylabel='Drug', \n",
    "                               title= f'Count of Drugs per {attribute}', \n",
    "                               stacked=True, rot = rot, ax = axes[loc[0]][loc[1]])"
   ]
  },
  {
   "cell_type": "code",
   "execution_count": 14,
   "id": "371b235b",
   "metadata": {},
   "outputs": [
    {
     "data": {
      "text/plain": [
       "<AxesSubplot:title={'center':'Count of Drugs per BP when Na_to_K <= 14.5175'}, xlabel='BP', ylabel='Drug'>"
      ]
     },
     "execution_count": 14,
     "metadata": {},
     "output_type": "execute_result"
    },
    {
     "data": {
      "image/png": "[encoded data removed]",
      "text/plain": [
       "<Figure size 432x288 with 1 Axes>"
      ]
     },
     "metadata": {
      "needs_background": "light"
     },
     "output_type": "display_data"
    }
   ],
   "source": [
    "x = drug_data[drug_data['Na_to_K'] <= 14.5175]\n",
    "stacked_attribute = x[['BP','Drug']].value_counts().to_frame().reset_index().pivot_table(index= 'BP', columns= ['Drug'],\n",
    "                                                                                                     values= 0)\n",
    "stacked_attribute.plot(kind='bar', xlabel= 'BP', ylabel='Drug', \n",
    "                       title= f'Count of Drugs per BP when Na_to_K <= 14.5175', stacked=True, \n",
    "                       rot=0)"
   ]
  },
  {
   "attachments": {},
   "cell_type": "markdown",
   "id": "a5282bff",
   "metadata": {},
   "source": [
    "I have the following observations:\n",
    "\n",
    "- `Drug A` has been the cure for patients who are less than 51 years old whereas `drug B` was the cure for patients who are 51 years old and older. \n",
    "- Patients with normal blood pressure were cured using either `drug X` or `drug Y`.\n",
    "- `Drug Y` has been the cure for all patients who have `na_to_k > 18.269`. This makes na_to_k a key variable."
   ]
  },
  {
   "cell_type": "code",
   "execution_count": 15,
   "id": "d122b940",
   "metadata": {
    "scrolled": true
   },
   "outputs": [
    {
     "name": "stdout",
     "output_type": "stream",
     "text": [
      "Confusion matrix for fold number 1 is as follow:\n",
      " actual     drugA  drugB  drugC  drugX  drugY\n",
      "predicted                                   \n",
      "drugA          2      0      0      0      0\n",
      "drugB          0      1      0      0      0\n",
      "drugC          0      0      5      0      0\n",
      "drugX          0      0      0     12      0\n",
      "drugY          0      0      0      0     20\n",
      "\n",
      "Confusion matrix for fold number 2 is as follow:\n",
      " actual     drugA  drugB  drugC  drugX  drugY\n",
      "predicted                                   \n",
      "drugA          5      0      0      0      0\n",
      "drugB          0      5      0      0      0\n",
      "drugC          0      0      2      0      0\n",
      "drugX          0      0      0      9      0\n",
      "drugY          0      0      0      0     19\n",
      "\n",
      "Confusion matrix for fold number 3 is as follow:\n",
      " actual     drugA  drugB  drugC  drugX  drugY\n",
      "predicted                                   \n",
      "drugA          4      0      0      0      0\n",
      "drugB          1      3      0      0      0\n",
      "drugC          0      0      3      0      0\n",
      "drugX          0      0      0     12      0\n",
      "drugY          0      0      0      0     17\n",
      "\n",
      "Confusion matrix for fold number 4 is as follow:\n",
      " actual     drugA  drugB  drugC  drugX  drugY\n",
      "predicted                                   \n",
      "drugA          6      0      0      0      0\n",
      "drugB          0      5      0      0      0\n",
      "drugC          0      0      3      0      0\n",
      "drugX          0      0      0     10      0\n",
      "drugY          0      0      0      1     15\n",
      "\n",
      "Confusion matrix for fold number 5 is as follow:\n",
      " actual     drugA  drugB  drugC  drugX  drugY\n",
      "predicted                                   \n",
      "drugA          5      0      0      0      0\n",
      "drugB          0      2      0      0      0\n",
      "drugC          0      0      3      0      0\n",
      "drugX          0      0      0     10      0\n",
      "drugY          0      0      0      0     20\n",
      "\n",
      "Decision Tree for drug dataset is as follows:\n",
      " Internal_Split_Node(attribute=('Na_to_K', 14.5175), subtrees={'larger_than_14.5175': Leaf(label='drugY', Samples=91), 'lower_or_equal_to_14.5175': Internal_Split_Node(attribute='BP', subtrees={'LOW': Internal_Split_Node(attribute='Cholesterol', subtrees={'HIGH': Leaf(label='drugC', Samples=16), 'NORMAL': Leaf(label='drugX', Samples=17)}, samples=33, label_distribution={'drugX': 17, 'drugC': 16}, default_value=('drugX', 17)), 'NORMAL': Leaf(label='drugX', Samples=36), 'HIGH': Internal_Split_Node(attribute=('Age', 50.5), subtrees={'larger_than_50.5': Leaf(label='drugB', Samples=16), 'lower_or_equal_to_50.5': Leaf(label='drugA', Samples=23)}, samples=39, label_distribution={'drugA': 23, 'drugB': 16}, default_value=('drugA', 23))}, samples=108, label_distribution={'drugX': 53, 'drugA': 23, 'drugC': 16, 'drugB': 16}, default_value=('drugX', 53))}, samples=200, label_distribution={'drugY': 91, 'drugX': 54, 'drugA': 23, 'drugC': 16, 'drugB': 16}, default_value=('drugY', 91))\n",
      "This tree got an average accuarcy of 0.99 when running cross validation on 5 folds.\n",
      "Accuracy this tree has on each fold is: [1.0, 1.0, 0.975, 0.975, 1.0]\n"
     ]
    }
   ],
   "source": [
    "CART =  Classification_And_Regression_Tree(Maximum_purity_per_internal_node = 0.03,\n",
    "                                           Maximum_tree_depth = 5,\n",
    "                                           Minimum_number_of_records_per_internal_node = 10,\n",
    "                                           max_categories = 8)\n",
    "\n",
    "DecisionTree, avg_accuracy, cv_accuracy = CART.cross_validation(drug_data, \n",
    "                                                                ['Age', 'Sex', 'BP', 'Cholesterol', 'Na_to_K'],\n",
    "                                                                'Drug', cv = 5)\n",
    "print('Decision Tree for drug dataset is as follows:\\n', DecisionTree)\n",
    "print(f'This tree got an average accuarcy of {avg_accuracy} when running cross validation on 5 folds.')\n",
    "print(f'Accuracy this tree has on each fold is: {cv_accuracy}')"
   ]
  },
  {
   "cell_type": "markdown",
   "id": "08450da3",
   "metadata": {},
   "source": [
    "### Optimization:\n",
    "I use `cross validation` to select the best maximum tree depth for the model in order to maximize the accuracy metric. "
   ]
  },
  {
   "cell_type": "code",
   "execution_count": 17,
   "id": "4c56b75f",
   "metadata": {},
   "outputs": [
    {
     "name": "stdout",
     "output_type": "stream",
     "text": [
      "Accuracy mean when maximum tree depth = 0 is 0.45499999999999996\n",
      "Accuracy mean when maximum tree depth = 1 is 0.72\n",
      "Accuracy mean when maximum tree depth = 2 is 0.825\n",
      "Accuracy mean when maximum tree depth = 3 is 0.99\n",
      "Accuracy mean when maximum tree depth = 4 is 0.99\n",
      "Accuracy mean when maximum tree depth = 5 is 0.99\n",
      "Accuracy mean when maximum tree depth = 6 is 0.99\n"
     ]
    }
   ],
   "source": [
    "Maximum_tree_depth = np.arange(0,7,1)\n",
    "\n",
    "results = {}\n",
    "cv_scores_std = []\n",
    "accuracy_scores =[]\n",
    "\n",
    "for depth in Maximum_tree_depth:\n",
    "    CART =  Classification_And_Regression_Tree(0.03, depth, 10, 8, False)            \n",
    "    DecisionTree, avg_accuracy, cv_accuracy = CART.cross_validation(drug_data,\n",
    "                                                                    ['Age', 'Sex', 'BP', 'Cholesterol', 'Na_to_K'],\n",
    "                                                                     'Drug')\n",
    "    results[depth] = [DecisionTree, avg_accuracy, cv_accuracy]\n",
    "    accuracy_scores.append(avg_accuracy)\n",
    "    cv_scores_std.append(np.array(cv_accuracy).std())\n",
    "    print(f'Accuracy mean when maximum tree depth = {depth} is {np.array(cv_accuracy).mean()}')"
   ]
  },
  {
   "cell_type": "markdown",
   "id": "48d055f0",
   "metadata": {},
   "source": [
    "I note that decision tree accuracy is not dependent on these parameters. "
   ]
  },
  {
   "cell_type": "code",
   "execution_count": 19,
   "id": "f1cc1756",
   "metadata": {
    "scrolled": true
   },
   "outputs": [
    {
     "data": {
      "image/png": "[encoded data removed]",
      "text/plain": [
       "<Figure size 1080x360 with 1 Axes>"
      ]
     },
     "metadata": {
      "needs_background": "light"
     },
     "output_type": "display_data"
    }
   ],
   "source": [
    "def tree_depth_vs_accuracy(depths, cv_scores_std, accuracy_scores, title):\n",
    "    fig, ax = plt.subplots(1,1, figsize=(15,5))\n",
    "    ax.plot(depths, accuracy_scores, '-o', label='range of cross-validation accuracy', alpha=0.9)\n",
    "    ax.fill_between(depths, np.array(accuracy_scores)-2*np.array(cv_scores_std), \n",
    "                    np.array(accuracy_scores)+2*np.array(cv_scores_std), alpha=0.2)\n",
    "    ylim = plt.ylim()\n",
    "    ax.plot(depths, accuracy_scores, '-*', label=' accuracy', alpha=0.9)\n",
    "    ax.set_title(title, fontsize=16)\n",
    "    ax.set_xlabel('Tree depth', fontsize=14)\n",
    "    ax.set_ylabel('Accuracy', fontsize=14)\n",
    "    ax.set_ylim(ylim)\n",
    "    ax.set_xticks(depths)\n",
    "    ax.legend()\n",
    "\n",
    "    \n",
    "tree_depth_vs_accuracy(Maximum_tree_depth, cv_scores_std, accuracy_scores, \n",
    "                               'Accuracy per depth of decision tree') "
   ]
  },
  {
   "cell_type": "markdown",
   "id": "9faf8326",
   "metadata": {},
   "source": [
    "With tree depth of 0, a leaf node will suggest a drug Y and we get a 0.45 accuracy. The accuracy increases with tree depth and hit a plateau (0.99) when tree depth is 3."
   ]
  }
 ],
 "metadata": {
  "kernelspec": {
   "display_name": "Python 3 (ipykernel)",
   "language": "python",
   "name": "python3"
  },
  "language_info": {
   "codemirror_mode": {
    "name": "ipython",
    "version": 3
   },
   "file_extension": ".py",
   "mimetype": "text/x-python",
   "name": "python",
   "nbconvert_exporter": "python",
   "pygments_lexer": "ipython3",
   "version": "3.9.12"
  }
 },
 "nbformat": 4,
 "nbformat_minor": 5
}
